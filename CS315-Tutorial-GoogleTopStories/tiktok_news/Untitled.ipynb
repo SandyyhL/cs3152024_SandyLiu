{
 "cells": [
  {
   "cell_type": "code",
   "execution_count": 10,
   "id": "f7f4a871-ade4-4e8b-af38-1849d020a7c4",
   "metadata": {},
   "outputs": [],
   "source": [
    "import pandas as pd\n",
    "import json"
   ]
  },
  {
   "cell_type": "code",
   "execution_count": 12,
   "id": "c6239e54-fa2d-44a7-94c4-eb3ea40d378d",
   "metadata": {},
   "outputs": [],
   "source": [
    "with open('user_data.json', 'r') as file:\n",
    "    data = json.load(file)\n",
    "file.close()"
   ]
  },
  {
   "cell_type": "code",
   "execution_count": 15,
   "id": "3a4eae3a-d53f-456f-accd-4dbea0aa9d63",
   "metadata": {},
   "outputs": [],
   "source": [
    "feed_dict = data[\"Activity\"][\"Following List\"]"
   ]
  },
  {
   "cell_type": "code",
   "execution_count": 16,
   "id": "4663467b-e6d0-44ac-bd66-8d07accbd1aa",
   "metadata": {},
   "outputs": [
    {
     "data": {
      "text/plain": [
       "{'Following': [{'Date': '2024-02-01 18:48:25', 'UserName': 'jordantsanford'},\n",
       "  {'Date': '2024-02-01 18:44:25', 'UserName': 'annabelcrackers'},\n",
       "  {'Date': '2024-02-01 18:40:48', 'UserName': 'supercarblondie'}]}"
      ]
     },
     "execution_count": 16,
     "metadata": {},
     "output_type": "execute_result"
    }
   ],
   "source": [
    "feed_dict"
   ]
  },
  {
   "cell_type": "code",
   "execution_count": null,
   "id": "bb6e5c42-3231-43bc-baef-0565bd6296af",
   "metadata": {},
   "outputs": [],
   "source": []
  }
 ],
 "metadata": {
  "kernelspec": {
   "display_name": "Python 3 (ipykernel)",
   "language": "python",
   "name": "python3"
  },
  "language_info": {
   "codemirror_mode": {
    "name": "ipython",
    "version": 3
   },
   "file_extension": ".py",
   "mimetype": "text/x-python",
   "name": "python",
   "nbconvert_exporter": "python",
   "pygments_lexer": "ipython3",
   "version": "3.11.5"
  }
 },
 "nbformat": 4,
 "nbformat_minor": 5
}
